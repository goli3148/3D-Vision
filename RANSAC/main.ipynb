{
 "cells": [
  {
   "cell_type": "code",
   "execution_count": 54,
   "metadata": {},
   "outputs": [],
   "source": [
    "import cv2 \n",
    "import numpy as np \n",
    "import matplotlib.pyplot as plt"
   ]
  },
  {
   "cell_type": "code",
   "execution_count": 55,
   "metadata": {},
   "outputs": [],
   "source": [
    "# Load images \n",
    "img1 = cv2.imread('../src/ransac1.jpg', cv2.IMREAD_GRAYSCALE) \n",
    "img2 = cv2.imread('../src/ransac2.jpg', cv2.IMREAD_GRAYSCALE) \n",
    "\n",
    "# Step 1: Feature Detection and Description \n",
    "detector = cv2.ORB_create() \n",
    "kp1, des1 = detector.detectAndCompute(img1, None) \n",
    "kp2, des2 = detector.detectAndCompute(img2, None) \n",
    "# Compute correspondences matrix\n",
    "correspondences = np.zeros((des1.shape[0], des2.shape[0])) \n",
    "for i in range(des1.shape[0]): \n",
    "    for j in range(des2.shape[0]): \n",
    "        diff = np.sum((des1[i]-des2[j])**2) \n",
    "        correspondences[i,j] = np.sum((des1[i]-des2[j])**2) \n",
    "\n",
    "# Normalize correspondences matrix between 0 and 1\n",
    "correspondences = (correspondences - np.min(correspondences)) / (np.max(correspondences) - np.min(correspondences)) \n",
    "correspondences = np.where(correspondences < .15, 1, 0)\n",
    "\n",
    "# Draw correspondences\n",
    "matches = []\n",
    "for i in range(des1.shape[0]):\n",
    "    for j in range(des2.shape[0]):\n",
    "        if correspondences[i, j] == 1:\n",
    "            matches.append(cv2.DMatch(i, j, 1))\n",
    "\n",
    "# Draw matches\n",
    "img_matches = cv2.drawMatches(img1, kp1, img2, kp2, matches, None, flags=cv2.DrawMatchesFlags_NOT_DRAW_SINGLE_POINTS)\n",
    "\n",
    "# Display the matches\n",
    "cv2.imshow('Matches', img_matches)\n",
    "cv2.waitKey(0)\n",
    "cv2.destroyAllWindows()"
   ]
  },
  {
   "cell_type": "code",
   "execution_count": 56,
   "metadata": {},
   "outputs": [
    {
     "data": {
      "text/plain": [
       "1.0"
      ]
     },
     "execution_count": 56,
     "metadata": {},
     "output_type": "execute_result"
    }
   ],
   "source": [
    "def line_two_point(p1, p2):\n",
    "    direction_vector = [(b-a) for a,b in zip(p1,p2)]\n",
    "    refrence_point   = p1\n",
    "    return refrence_point, direction_vector\n",
    "def distance(point, reference_point, direction_vector):\n",
    "    # Convert lists to numpy arrays for easier computation\n",
    "    point = np.array(point)\n",
    "    reference_point = np.array(reference_point)\n",
    "    direction_vector = np.array(direction_vector)\n",
    "    \n",
    "    # Calculate vector from reference point to the given point\n",
    "    vector_to_point = point - reference_point\n",
    "    \n",
    "    # Calculate projection of the vector onto the line\n",
    "    projection = np.dot(vector_to_point, direction_vector) / np.dot(direction_vector, direction_vector) * direction_vector\n",
    "    \n",
    "    # Calculate vector perpendicular to the line\n",
    "    perpendicular_vector = vector_to_point - projection\n",
    "    \n",
    "    # Calculate the distance (magnitude of perpendicular vector)\n",
    "    distance = np.linalg.norm(perpendicular_vector)\n",
    "    \n",
    "    return distance\n",
    "\n",
    "ref, dir = line_two_point([1,0], [3,0])\n",
    "distance([2, 1], ref, dir)"
   ]
  },
  {
   "cell_type": "code",
   "execution_count": 57,
   "metadata": {},
   "outputs": [
    {
     "name": "stderr",
     "output_type": "stream",
     "text": [
      "/tmp/ipykernel_6262/2820365774.py:2: RuntimeWarning: overflow encountered in scalar subtract\n",
      "  direction_vector = [(b-a) for a,b in zip(p1,p2)]\n",
      "/tmp/ipykernel_6262/2820365774.py:15: RuntimeWarning: divide by zero encountered in scalar divide\n",
      "  projection = np.dot(vector_to_point, direction_vector) / np.dot(direction_vector, direction_vector) * direction_vector\n",
      "/tmp/ipykernel_6262/2820365774.py:15: RuntimeWarning: invalid value encountered in multiply\n",
      "  projection = np.dot(vector_to_point, direction_vector) / np.dot(direction_vector, direction_vector) * direction_vector\n",
      "/tmp/ipykernel_6262/2820365774.py:15: RuntimeWarning: invalid value encountered in scalar divide\n",
      "  projection = np.dot(vector_to_point, direction_vector) / np.dot(direction_vector, direction_vector) * direction_vector\n"
     ]
    }
   ],
   "source": [
    "threshold = .5\n",
    "def dist_score(p1, p2, corr_i, corr_j):\n",
    "    ref, dir = line_two_point(p1, p2)\n",
    "    dist = []\n",
    "    for i in range(len(corr_i)):\n",
    "        dist.append(distance(des1[corr_i[i]], ref, dir))\n",
    "        dist.append(distance(des2[corr_j[i]], ref, dir))\n",
    "    dist = np.array(dist)\n",
    "    dist = (dist - np.min(dist)) / (np.max(dist) - np.min(dist))\n",
    "    score = np.count_nonzero(dist < threshold)\n",
    "    return score, dist\n",
    "\n",
    "def makeRowCol2(vec):\n",
    "    for i in range(len(vec)):\n",
    "        vec[i] = 2 if vec[i] == 1 else 0\n",
    "    return vec\n",
    "\n",
    "def edit_correspond(dist, corr_i, corr_j):\n",
    "    for i in range(len(corr_i)):\n",
    "        if dist[i  ] > threshold: correspondences[corr_i[i],:] = makeRowCol2(correspondences[corr_i[i],:])\n",
    "        if dist[i+1] > threshold: correspondences[:,corr_j[i]] = makeRowCol2(correspondences[:,corr_j[i]])\n",
    "    \n",
    "best_dist = 0\n",
    "scores = np.zeros_like(correspondences)\n",
    "corr_i, corr_j = np.where(correspondences == 1)\n",
    "best_score = 0\n",
    "for i in range(len(corr_i)):\n",
    "    scores[corr_i[i], corr_j[i]], dst = dist_score(des1[corr_i[i]], des2[corr_j[i]], corr_i, corr_j)\n",
    "    if best_score < scores[corr_i[i], corr_j[i]]: best_dist = dst\n",
    "\n",
    "edit_correspond(best_dist, corr_i, corr_j)\n",
    "\n",
    "# Draw correspondences\n",
    "matches = []\n",
    "for i in range(des1.shape[0]):\n",
    "    for j in range(des2.shape[0]):\n",
    "        if correspondences[i, j] == 1:\n",
    "            matches.append(cv2.DMatch(i, j, 1))\n",
    "\n",
    "# Draw matches\n",
    "img_matches = cv2.drawMatches(img1, kp1, img2, kp2, matches, None, flags=cv2.DrawMatchesFlags_NOT_DRAW_SINGLE_POINTS)\n",
    "\n",
    "# Display the matches\n",
    "cv2.imshow('Matches', img_matches)\n",
    "cv2.waitKey(0)\n",
    "cv2.destroyAllWindows()"
   ]
  }
 ],
 "metadata": {
  "kernelspec": {
   "display_name": "Python 3",
   "language": "python",
   "name": "python3"
  },
  "language_info": {
   "codemirror_mode": {
    "name": "ipython",
    "version": 3
   },
   "file_extension": ".py",
   "mimetype": "text/x-python",
   "name": "python",
   "nbconvert_exporter": "python",
   "pygments_lexer": "ipython3",
   "version": "3.10.12"
  }
 },
 "nbformat": 4,
 "nbformat_minor": 2
}
