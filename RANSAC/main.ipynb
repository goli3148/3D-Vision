{
 "cells": [
  {
   "cell_type": "code",
   "execution_count": 209,
   "metadata": {},
   "outputs": [],
   "source": [
    "import cv2 \n",
    "import numpy as np \n",
    "import matplotlib.pyplot as plt"
   ]
  },
  {
   "cell_type": "code",
   "execution_count": 210,
   "metadata": {},
   "outputs": [],
   "source": [
    "# Load images \n",
    "img1 = cv2.imread('../src/ransac1.jpg', cv2.IMREAD_GRAYSCALE) \n",
    "img2 = cv2.imread('../src/ransac2.jpg', cv2.IMREAD_GRAYSCALE) \n",
    "\n",
    "# Step 1: Feature Detection and Description \n",
    "detector = cv2.ORB_create() \n",
    "kp1, des1 = detector.detectAndCompute(img1, None) \n",
    "kp2, des2 = detector.detectAndCompute(img2, None) \n",
    "# Compute correspondences matrix\n",
    "correspondences = np.zeros((des1.shape[0], des2.shape[0])) \n",
    "for i in range(des1.shape[0]): \n",
    "    for j in range(des2.shape[0]): \n",
    "        diff = np.sum((des1[i]-des2[j])**2) \n",
    "        correspondences[i,j] = np.sum((des1[i]-des2[j])**2) \n",
    "\n",
    "# Normalize correspondences matrix between 0 and 1\n",
    "correspondences = (correspondences - np.min(correspondences)) / (np.max(correspondences) - np.min(correspondences)) \n",
    "correspondences = np.where(correspondences < .05, 1, 0)\n",
    "\n",
    "# Draw correspondences\n",
    "matches = []\n",
    "for i in range(des1.shape[0]):\n",
    "    for j in range(des2.shape[0]):\n",
    "        if correspondences[i, j] == 1:\n",
    "            matches.append(cv2.DMatch(i, j, 1))\n",
    "\n",
    "# Draw matches\n",
    "# img_matches = cv2.drawMatches(img1, kp1, img2, kp2, matches, None, flags=cv2.DrawMatchesFlags_NOT_DRAW_SINGLE_POINTS)\n",
    "\n",
    "# # Display the matches\n",
    "# cv2.imshow('Matches', img_matches)\n",
    "# cv2.waitKey(0)\n",
    "# cv2.destroyAllWindows()"
   ]
  },
  {
   "cell_type": "code",
   "execution_count": 211,
   "metadata": {},
   "outputs": [
    {
     "data": {
      "text/plain": [
       "1.0"
      ]
     },
     "execution_count": 211,
     "metadata": {},
     "output_type": "execute_result"
    }
   ],
   "source": [
    "def line_two_point(p1, p2):\n",
    "    direction_vector = [(b-a) for a,b in zip(p1,p2)]\n",
    "    refrence_point   = p1\n",
    "    return refrence_point, direction_vector\n",
    "def distance(point, reference_point, direction_vector):\n",
    "    \"\"\"\n",
    "    Calculate the distance between a point and a line in d dimensions.\n",
    "\n",
    "    Args:\n",
    "    point (list): List of coordinates of the point in d dimensions.\n",
    "    reference_point (list): List of coordinates of a point on the line (the reference point).\n",
    "    direction_vector (list): List representing the direction vector of the line.\n",
    "\n",
    "    Returns:\n",
    "    float: The distance between the point and the line.\n",
    "    \"\"\"\n",
    "    # Convert lists to numpy arrays for easier computation\n",
    "    point = np.array(point)\n",
    "    reference_point = np.array(reference_point)\n",
    "    direction_vector = np.array(direction_vector)\n",
    "    \n",
    "    # Calculate vector from reference point to the given point\n",
    "    vector_to_point = point - reference_point\n",
    "    \n",
    "    # Calculate projection of the vector onto the line\n",
    "    projection = np.dot(vector_to_point, direction_vector) / np.dot(direction_vector, direction_vector) * direction_vector\n",
    "    \n",
    "    # Calculate vector perpendicular to the line\n",
    "    perpendicular_vector = vector_to_point - projection\n",
    "    \n",
    "    # Calculate the distance (magnitude of perpendicular vector)\n",
    "    distance = np.linalg.norm(perpendicular_vector)\n",
    "    \n",
    "    return distance\n",
    "\n",
    "ref, dir = line_two_point([1,0], [3,0])\n",
    "distance([2, 1], ref, dir)"
   ]
  },
  {
   "cell_type": "code",
   "execution_count": 223,
   "metadata": {},
   "outputs": [
    {
     "name": "stderr",
     "output_type": "stream",
     "text": [
      "C:\\Users\\NovinAT\\AppData\\Local\\Temp\\ipykernel_13712\\1491623045.py:2: RuntimeWarning: overflow encountered in scalar subtract\n",
      "  direction_vector = [(b-a) for a,b in zip(p1,p2)]\n"
     ]
    },
    {
     "ename": "IndexError",
     "evalue": "index 8 is out of bounds for axis 0 with size 7",
     "output_type": "error",
     "traceback": [
      "\u001b[1;31m---------------------------------------------------------------------------\u001b[0m",
      "\u001b[1;31mIndexError\u001b[0m                                Traceback (most recent call last)",
      "\u001b[1;32md:\\education-MS\\3d vision\\3D-Vision\\RANSAC\\main.ipynb Cell 4\u001b[0m line \u001b[0;36m3\n\u001b[0;32m     <a href='vscode-notebook-cell:/d%3A/education-MS/3d%20vision/3D-Vision/RANSAC/main.ipynb#X14sZmlsZQ%3D%3D?line=30'>31</a>\u001b[0m     scores[corr_i[i], corr_j[i]], dst \u001b[39m=\u001b[39m dist_score(des1[corr_i[i]], des2[corr_j[i]], corr_i, corr_j)\n\u001b[0;32m     <a href='vscode-notebook-cell:/d%3A/education-MS/3d%20vision/3D-Vision/RANSAC/main.ipynb#X14sZmlsZQ%3D%3D?line=31'>32</a>\u001b[0m     \u001b[39mif\u001b[39;00m best_score \u001b[39m<\u001b[39m scores[corr_i[i], corr_j[i]]: best_dist \u001b[39m=\u001b[39m dst\n\u001b[1;32m---> <a href='vscode-notebook-cell:/d%3A/education-MS/3d%20vision/3D-Vision/RANSAC/main.ipynb#X14sZmlsZQ%3D%3D?line=33'>34</a>\u001b[0m edit_correspond(best_dist, corr_i, corr_j)\n",
      "\u001b[1;32md:\\education-MS\\3d vision\\3D-Vision\\RANSAC\\main.ipynb Cell 4\u001b[0m line \u001b[0;36m2\n\u001b[0;32m     <a href='vscode-notebook-cell:/d%3A/education-MS/3d%20vision/3D-Vision/RANSAC/main.ipynb#X14sZmlsZQ%3D%3D?line=19'>20</a>\u001b[0m e \u001b[39m=\u001b[39m \u001b[39m2\u001b[39m\u001b[39m*\u001b[39mi \u001b[39m+\u001b[39m \u001b[39m1\u001b[39m\n\u001b[0;32m     <a href='vscode-notebook-cell:/d%3A/education-MS/3d%20vision/3D-Vision/RANSAC/main.ipynb#X14sZmlsZQ%3D%3D?line=20'>21</a>\u001b[0m \u001b[39mif\u001b[39;00m dist[s] \u001b[39m>\u001b[39m \u001b[39m.5\u001b[39m:\n\u001b[1;32m---> <a href='vscode-notebook-cell:/d%3A/education-MS/3d%20vision/3D-Vision/RANSAC/main.ipynb#X14sZmlsZQ%3D%3D?line=21'>22</a>\u001b[0m     correspondences[corr_i[s],:] \u001b[39m=\u001b[39m makeRowCol2(correspondences[corr_i[s],:])\n\u001b[0;32m     <a href='vscode-notebook-cell:/d%3A/education-MS/3d%20vision/3D-Vision/RANSAC/main.ipynb#X14sZmlsZQ%3D%3D?line=22'>23</a>\u001b[0m \u001b[39mif\u001b[39;00m dist[e] \u001b[39m>\u001b[39m \u001b[39m.5\u001b[39m:\n\u001b[0;32m     <a href='vscode-notebook-cell:/d%3A/education-MS/3d%20vision/3D-Vision/RANSAC/main.ipynb#X14sZmlsZQ%3D%3D?line=23'>24</a>\u001b[0m     correspondences[:,corr_j[e]] \u001b[39m=\u001b[39m makeRowCol2(correspondences[:,corr_j[e]])\n",
      "\u001b[1;31mIndexError\u001b[0m: index 8 is out of bounds for axis 0 with size 7"
     ]
    }
   ],
   "source": [
    "def dist_score(p1, p2, corr_i, corr_j):\n",
    "    ref, dir = line_two_point(p1, p2)\n",
    "    dist = []\n",
    "    for i in range(len(corr_i)):\n",
    "        dist.append(distance(des1[corr_i[i]], ref, dir))\n",
    "        dist.append(distance(des2[corr_j[i]], ref, dir))\n",
    "    dist = np.array(dist)\n",
    "    dist = (dist - np.min(dist)) / (np.max(dist) - np.min(dist))\n",
    "    score = np.count_nonzero(dist < .5)\n",
    "    return score, dist\n",
    "\n",
    "def makeRowCol2(vec):\n",
    "    for i in range(len(vec)):\n",
    "        vec[i] = 2 if vec[i] == 1 else 0\n",
    "    return vec\n",
    "\n",
    "def edit_correspond(dist, corr_i, corr_j):\n",
    "    for i in range((len(dist)//2)-1):\n",
    "        s = 2*i\n",
    "        e = 2*i + 1\n",
    "        if dist[s] > .5:\n",
    "            correspondences[corr_i[s],:] = makeRowCol2(correspondences[corr_i[s],:])\n",
    "        if dist[e] > .5:\n",
    "            correspondences[:,corr_j[e]] = makeRowCol2(correspondences[:,corr_j[e]])\n",
    "    \n",
    "best_dist = 0\n",
    "scores = np.zeros_like(correspondences)\n",
    "corr_i, corr_j = np.where(correspondences == 1)\n",
    "best_score = 0\n",
    "for i in range(len(corr_i)):\n",
    "    scores[corr_i[i], corr_j[i]], dst = dist_score(des1[corr_i[i]], des2[corr_j[i]], corr_i, corr_j)\n",
    "    if best_score < scores[corr_i[i], corr_j[i]]: best_dist = dst\n",
    "\n",
    "edit_correspond(best_dist, corr_i, corr_j)"
   ]
  }
 ],
 "metadata": {
  "kernelspec": {
   "display_name": "Python 3",
   "language": "python",
   "name": "python3"
  },
  "language_info": {
   "codemirror_mode": {
    "name": "ipython",
    "version": 3
   },
   "file_extension": ".py",
   "mimetype": "text/x-python",
   "name": "python",
   "nbconvert_exporter": "python",
   "pygments_lexer": "ipython3",
   "version": "3.10.11"
  }
 },
 "nbformat": 4,
 "nbformat_minor": 2
}
