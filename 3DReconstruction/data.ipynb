{
 "cells": [
  {
   "cell_type": "code",
   "execution_count": 4,
   "metadata": {},
   "outputs": [],
   "source": [
    "import cv2 as cv\n",
    "import numpy as np\n",
    "import os\n",
    "import scipy.io"
   ]
  },
  {
   "cell_type": "code",
   "execution_count": 5,
   "metadata": {},
   "outputs": [
    {
     "name": "stdout",
     "output_type": "stream",
     "text": [
      "[[-6.67132440e+02  1.51866017e+01 -3.99122170e+02 -6.41710474e+01]\n",
      " [ 2.61277801e-01 -6.64130698e+02 -2.89014678e+02 -7.62961667e-01]\n",
      " [-1.36678873e-04  3.40102814e-02 -1.00064162e+00  1.69777098e-02]]\n",
      "[[-5.75709508e+02  5.36472030e+01 -4.97058613e+02 -6.96358395e+02]\n",
      " [ 3.47247879e+00 -6.47354776e+02 -2.86990297e+02 -3.37416849e+01]\n",
      " [ 1.72545177e-01  1.23163530e-02 -9.73919592e-01 -2.66780545e-03]]\n",
      "[[-1.73942137e+02  2.95578735e+01 -2.04739955e+02 -4.16884673e+02]\n",
      " [ 2.22632706e+00 -2.28979704e+02 -1.03123423e+02 -2.16638622e+01]\n",
      " [ 1.12864622e-01 -4.84301229e-03 -3.36216012e-01  3.90922793e-02]]\n",
      "[[-1.55767020e+02  4.20515523e+01 -2.45748918e+02 -5.88315208e+02]\n",
      " [ 2.15493322e+00 -2.49343210e+02 -1.12197491e+02 -2.38297603e+01]\n",
      " [ 1.69918509e-01 -1.53620460e-02 -3.46806651e-01  1.47696838e-01]]\n",
      "[[-3.17256417e+01  1.45238044e+01 -7.57606073e+01 -2.01826428e+02]\n",
      " [ 7.75740252e-01 -7.10172105e+01 -3.22456106e+01 -8.33420454e+00]\n",
      " [ 6.28717465e-02 -8.37378178e-03 -9.07588169e-02  8.70125444e-02]]\n",
      "[[-4.50528338e+01  3.78119954e+01 -1.87344438e+02 -5.25785092e+02]\n",
      " [ 2.47434721e+00 -1.68200749e+02 -7.74386923e+01 -2.47765644e+01]\n",
      " [ 1.78085890e-01 -2.97904107e-02 -1.94982123e-01  3.22162248e-01]]\n",
      "[[-1.25222321e+00  1.25432208e+01 -5.97098761e+01 -1.70974247e+02]\n",
      " [ 9.27060324e-01 -5.28075400e+01 -2.45639844e+01 -8.72044610e+00]\n",
      " [ 6.55594839e-02 -1.36249303e-02 -5.10194193e-02  1.60866709e-01]]\n",
      "[[ 3.22160658e+01  2.74083179e+01 -1.34703128e+02 -3.76760472e+02]\n",
      " [ 1.65772423e+00 -1.22514009e+02 -5.59714773e+01 -1.48380031e+01]\n",
      " [ 1.67397839e-01 -4.57201394e-02 -8.48110748e-02  5.65489058e-01]]\n",
      "[[ 2.11432475e+01  8.16254599e+00 -4.50768254e+01 -1.19186732e+02]\n",
      " [ 6.36545066e-01 -4.32332334e+01 -1.97641923e+01 -5.42937368e+00]\n",
      " [ 6.11425031e-02 -2.06566401e-02 -2.07010374e-02  2.52117887e-01]]\n",
      "[[ 1.00499685e+03  2.11193785e+02 -1.43168420e+03 -3.43240180e+03]\n",
      " [ 1.93666464e+01 -1.49124698e+03 -6.81391798e+02 -2.01992340e+02]\n",
      " [ 2.07861099e+00 -8.53815716e-01 -4.18520534e-01  1.03217311e+01]]\n"
     ]
    }
   ],
   "source": [
    "def loadhouse():\n",
    "    src = '/media/mrj/documents/AI/3D-Vision/src/modelHouse/'\n",
    "    img = []\n",
    "    calib = []\n",
    "    for filename in os.listdir(src):\n",
    "        if 'pgm' in filename:\n",
    "            img_path = os.path.join(src, filename)\n",
    "            img.append(cv.imread(img_path))\n",
    "\n",
    "    src = '/media/mrj/documents/AI/3D-Vision/src/modelHouse/calib/'\n",
    "    for filename in os.listdir(src):\n",
    "        txt_path = os.path.join(src, filename)\n",
    "        with open(txt_path, 'r') as file:\n",
    "            lines = file.readlines()\n",
    "\n",
    "        data = []\n",
    "        for line in lines[0:]: \n",
    "            data.extend(map(float, line.split()))\n",
    "\n",
    "        matrix = np.array(data).reshape((3, 4))\n",
    "        calib.append(matrix)\n",
    "    return img, calib\n"
   ]
  },
  {
   "cell_type": "code",
   "execution_count": 6,
   "metadata": {},
   "outputs": [],
   "source": [
    "def loadbird():\n",
    "    src = '/media/mrj/documents/AI/3D-Vision/src/bird_data/images/'\n",
    "    img = []\n",
    "    calib = []\n",
    "    for filename in os.listdir(src):\n",
    "        if 'ppm' in filename:\n",
    "            img_path = os.path.join(src, filename)\n",
    "            img.append(cv.imread(img_path))\n",
    "    src = '/media/mrj/documents/AI/3D-Vision/src/bird_data/calib'\n",
    "    for filename in os.listdir(src):\n",
    "        if 'txt' in filename:\n",
    "            txt_path = os.path.join(src, filename)\n",
    "            with open(txt_path, 'r') as file:\n",
    "                lines = file.readlines()\n",
    "\n",
    "            data = []\n",
    "            for line in lines[1:]: \n",
    "                data.extend(map(float, line.split()))\n",
    "\n",
    "            matrix = np.array(data).reshape((3, 4))\n",
    "            calib.append(matrix)\n",
    "    return img, calib"
   ]
  },
  {
   "cell_type": "code",
   "execution_count": 7,
   "metadata": {},
   "outputs": [],
   "source": [
    "def loaddin():\n",
    "    src = '/media/mrj/documents/AI/3D-Vision/src/din/'\n",
    "    img = []\n",
    "    for filename in os.listdir(src):\n",
    "        if 'ppm' in filename:\n",
    "            img_path = os.path.join(src, filename)\n",
    "            img.append(cv.imread(img_path))\n",
    "\n",
    "\n",
    "    mat_file = scipy.io.loadmat(f\"{src}/cameraCalibration.mat\")\n",
    "\n",
    "    matrixCalibration = np.array(mat_file['P'][0])\n",
    "    return img, matrixCalibration"
   ]
  }
 ],
 "metadata": {
  "kernelspec": {
   "display_name": ".venv",
   "language": "python",
   "name": "python3"
  },
  "language_info": {
   "codemirror_mode": {
    "name": "ipython",
    "version": 3
   },
   "file_extension": ".py",
   "mimetype": "text/x-python",
   "name": "python",
   "nbconvert_exporter": "python",
   "pygments_lexer": "ipython3",
   "version": "3.10.12"
  }
 },
 "nbformat": 4,
 "nbformat_minor": 2
}
