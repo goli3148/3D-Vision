{
 "cells": [
  {
   "cell_type": "code",
   "execution_count": 560,
   "metadata": {},
   "outputs": [],
   "source": [
    "import numpy as np\n",
    "import matplotlib.pyplot as plt\n",
    "\n",
    "def rectangle(x=0, y=0, width=1, length=1, step=.1, cetner=False):\n",
    "    if cetner:\n",
    "        x = -1*int(width/2)\n",
    "        y = -1*int(length/2)\n",
    "    step_inv = int(1 / step)\n",
    "    vertices = [(x, y), (x + width, y), (x + width, y + length), (x, y + length)]\n",
    "    # Generate the points along the edges of the square\n",
    "    points = []\n",
    "    for i in range(len(vertices)):\n",
    "        x1, y1 = vertices[i]    \n",
    "        x2, y2 = vertices[(i + 1) % len(vertices)]\n",
    "        if x1 == x2:  # Vertical edge        \n",
    "            points.extend([(x1, y * step, 1) for y in range(min(y1, y2)*step_inv, max(y1, y2)*step_inv + 1, 1)])\n",
    "        else:  # Horizontal edge        \n",
    "            points.extend([(x * step, y1, 1) for x in range(min(x1, x2)*step_inv, max(x1, x2)*step_inv + 1, 1)])\n",
    "    vertices = [(x, y, 1), (x + width, y, 1), (x + width, y + length, 1), (x, y + length, 1)]\n",
    "    return points, vertices\n",
    "def projectivity(points, s, theta, tx, ty, v1, v2, v, K=[1,1,0,1]):\n",
    "    theta = np.pi * theta / 180\n",
    "    Hs = np.array([\n",
    "        [s*np.cos(theta),   -s * np.sin(theta) ,        tx],\n",
    "        [s*np.sin(theta),   s * np.cos(theta),          ty],\n",
    "        [0,                 0,                          1]\n",
    "    ])\n",
    "    Ha = np.array([\n",
    "        [K[0],K[1], 0],\n",
    "        [K[2],K[3], 0],\n",
    "        [0,   0,    1]\n",
    "    ])\n",
    "    Hp = np.array([\n",
    "        [1 ,0,  0],\n",
    "        [0 ,1,  0],\n",
    "        [v1,v2, v]\n",
    "    ])\n",
    "    Hfinal = Hs @ Ha @ Hp\n",
    "    transform_point = []\n",
    "    for point in points:\n",
    "        transform_point.append(Hfinal @ np.array(point).T)\n",
    "        transform_point[-1] = [transform_point[-1][0]/transform_point[-1][2], transform_point[-1][1]/transform_point[-1][2], 1]\n",
    "    return transform_point\n",
    "\n",
    "def pro():\n",
    "    points, vertices    = rectangle(x=1,y=2,width=10, length=10, cetner=True)\n",
    "    points              = projectivity(points=points, s=1, theta=0, tx=0, ty=0, v1=.05, v2=.01, v=.5, K=[1, 1, 0, 1])\n",
    "    vertices            = projectivity(points=vertices, s=1, theta=0, tx=0, ty=0, v1=.05, v2=.01, v=.5, K=[1, 1, 0, 1])\n",
    "    return np.array(points), np.array(vertices)"
   ]
  },
  {
   "cell_type": "code",
   "execution_count": 561,
   "metadata": {},
   "outputs": [],
   "source": [
    "import cv2\n",
    "import numpy as np\n",
    "import matplotlib.pyplot as plt"
   ]
  },
  {
   "cell_type": "code",
   "execution_count": 562,
   "metadata": {},
   "outputs": [],
   "source": [
    "def findcorners(points):\n",
    "    print(points.shape)\n",
    "    \n",
    "def AffineRecover(points, l1, l2, l3):\n",
    "    Hpt = np.array([\n",
    "        [1, 0,  -l1/l3],\n",
    "        [0, 1,  -l2/l3],\n",
    "        [0, 0,  1/l3]\n",
    "    ])\n",
    "    \n",
    "    Hprime = affinity() @ np.linalg.inv(Hpt).T\n",
    "\n",
    "    transform_point = []\n",
    "    for point in points:\n",
    "        transform_point.append(Hprime @ np.array(point).T)\n",
    "        transform_point[-1] = [transform_point[-1][0]/transform_point[-1][2], transform_point[-1][1]/transform_point[-1][2], 1]\n",
    "    return np.array(transform_point)\n",
    "\n",
    "\n",
    "def affinity(theta=0, phi=0, lambda1=1, lambda2=1, tx=0, ty=0):\n",
    "    D = np.array([\n",
    "        [lambda1, 0],\n",
    "        [0, lambda2]\n",
    "    ])\n",
    "    A = R(theta) @ R(-phi) @ D @ R(phi)\n",
    "    aff_mat = np.array([\n",
    "        [A[0][0], A[0][1], tx],\n",
    "        [A[1][0], A[1][1], ty],\n",
    "        [0,       0,        1]\n",
    "    ])\n",
    "    return aff_mat\n",
    "    \n",
    "def R(angle):\n",
    "    angle = np.pi * angle / 180\n",
    "    R = np.array([\n",
    "        [np.cos(angle), -1*np.sin(angle)],\n",
    "        [np.sin(angle), np.cos(angle)]\n",
    "    ])\n",
    "    return R"
   ]
  },
  {
   "cell_type": "code",
   "execution_count": 563,
   "metadata": {},
   "outputs": [
    {
     "name": "stdout",
     "output_type": "stream",
     "text": [
      "[[-50.         -25.           1.        ]\n",
      " [  0.          -7.14285714   1.        ]\n",
      " [ 12.5          6.25         1.        ]\n",
      " [  0.          16.66666667   1.        ]]\n",
      "[ 1.48809524e+04 -4.54747351e-13  7.44047619e+02]\n",
      "[14880.95238095 14880.95238095   148.80952381]\n",
      "(3,)\n"
     ]
    }
   ],
   "source": [
    "points, corners = pro()\n",
    "print(corners)\n",
    "\n",
    "l1 = np.cross(corners[0], corners[1])\n",
    "l2 = np.cross(corners[2], corners[3])\n",
    "\n",
    "l3 = np.cross(corners[0], corners[3])\n",
    "l4 = np.cross(corners[1], corners[2])\n",
    "\n",
    "p1 = np.cross(l1, l2)\n",
    "p2 = np.cross(l3, l4)\n",
    "\n",
    "print(p1)\n",
    "print(p2)\n",
    "\n",
    "L = np.cross(p1, p2)\n",
    "print(L.shape)\n",
    "\n",
    "L[0] = L[0]/L[2]\n",
    "L[1] = L[1]/L[2]\n",
    "L[2] = 1\n",
    "point_transformed = AffineRecover(points=points, l1=L[0], l2=L[1], l3=L[2])\n",
    "\n"
   ]
  },
  {
   "cell_type": "code",
   "execution_count": 564,
   "metadata": {},
   "outputs": [
    {
     "data": {
      "image/png": "[encoded data removed]",
      "text/plain": [
       "<Figure size 640x480 with 1 Axes>"
      ]
     },
     "metadata": {},
     "output_type": "display_data"
    }
   ],
   "source": [
    "fig, ax = plt.subplots()\n",
    "\n",
    "x_coords, y_coords, _ = zip(*point_transformed)\n",
    "ax.scatter(x_coords, y_coords, marker='.', color='orange')\n",
    "\n",
    "\n",
    "x_coords, y_coords, _ = zip(*points)\n",
    "ax.scatter(x_coords, y_coords, marker='.', color='b')\n",
    "\n",
    "p1[0] = p1[0]/p1[2]\n",
    "p1[1] = p1[1]/p1[2]\n",
    "\n",
    "p2[0] = p2[0]/p2[2]\n",
    "p2[1] = p2[1]/p2[2]\n",
    "\n",
    "ax.scatter(p1[0], p1[1], marker='*', color='r')\n",
    "ax.scatter(p2[0], p2[1], marker='*', color='r')\n",
    "\n",
    "\n",
    "# Set the axis limits\n",
    "xlim = 10\n",
    "ylim = 10\n",
    "ax.set_xlim(min(x_coords) - xlim, max(x_coords) + xlim)\n",
    "ax.set_ylim(min(y_coords) - ylim, max(y_coords) + ylim)\n",
    "# Set the axis labels\n",
    "ax.set_xlabel('X-axis')\n",
    "ax.set_ylabel('Y-axis')\n",
    "# Display the grid\n",
    "ax.grid(True)\n",
    "ax.axhline(y=0, color='k')\n",
    "ax.axvline(x=0, color='k')\n",
    "ax.set_aspect('equal', adjustable='box')\n",
    "plt.show()"
   ]
  },
  {
   "cell_type": "code",
   "execution_count": 565,
   "metadata": {},
   "outputs": [
    {
     "name": "stdout",
     "output_type": "stream",
     "text": [
      "[[134  64  55 ...  32  33  54]\n",
      " [134  63  54 ...  32  34  55]\n",
      " [135  67  58 ...  35  36  56]\n",
      " ...\n",
      " [159 100  95 ...  95  94 112]\n",
      " [218 198 196 ... 197 197 204]\n",
      " [248 246 245 ... 246 246 247]]\n",
      "(233, 318)\n"
     ]
    }
   ],
   "source": []
  }
 ],
 "metadata": {
  "kernelspec": {
   "display_name": ".venv",
   "language": "python",
   "name": "python3"
  },
  "language_info": {
   "codemirror_mode": {
    "name": "ipython",
    "version": 3
   },
   "file_extension": ".py",
   "mimetype": "text/x-python",
   "name": "python",
   "nbconvert_exporter": "python",
   "pygments_lexer": "ipython3",
   "version": "3.10.12"
  }
 },
 "nbformat": 4,
 "nbformat_minor": 2
}
