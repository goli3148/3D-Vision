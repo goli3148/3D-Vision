{
 "cells": [
  {
   "cell_type": "code",
   "execution_count": 109,
   "metadata": {},
   "outputs": [],
   "source": [
    "import numpy as np\n",
    "import matplotlib.pyplot as plt"
   ]
  },
  {
   "cell_type": "code",
   "execution_count": 110,
   "metadata": {},
   "outputs": [],
   "source": [
    "def rectangle(x=0, y=0, width=1, length=1, step=.1, cetner=False):\n",
    "    if cetner:\n",
    "        x = -1*int(width/2)\n",
    "        y = -1*int(length/2)\n",
    "    step_inv = int(1 / step)\n",
    "    vertices = [(x, y), (x + width, y), (x + width, y + length), (x, y + length)]\n",
    "    # Generate the points along the edges of the square\n",
    "    points = []\n",
    "    for i in range(len(vertices)):\n",
    "        x1, y1 = vertices[i]    \n",
    "        x2, y2 = vertices[(i + 1) % len(vertices)]\n",
    "        if x1 == x2:  # Vertical edge        \n",
    "            points.extend([(x1, y * step, 1) for y in range(min(y1, y2)*step_inv, max(y1, y2)*step_inv + 1, 1)])\n",
    "        else:  # Horizontal edge        \n",
    "            points.extend([(x * step, y1, 1) for x in range(min(x1, x2)*step_inv, max(x1, x2)*step_inv + 1, 1)])\n",
    "    # Separate the x and y coordinates\n",
    "    x_coords, y_coords, _ = zip(*points)\n",
    "    return points, x_coords, y_coords\n"
   ]
  },
  {
   "cell_type": "code",
   "execution_count": 111,
   "metadata": {},
   "outputs": [],
   "source": [
    "def projectivity(points, s, theta, tx, ty, v1, v2, v, K=[1,1,0,1]):\n",
    "    theta = np.pi * theta / 180\n",
    "    Hs = np.array([\n",
    "        [s*np.cos(theta),   -s * np.sin(theta) ,        tx],\n",
    "        [s*np.sin(theta),   s * np.cos(theta),          ty],\n",
    "        [0,                 0,                          1]\n",
    "    ])\n",
    "    Ha = np.array([\n",
    "        [K[0],K[1], 0],\n",
    "        [K[2],K[3], 0],\n",
    "        [0,   0,    1]\n",
    "    ])\n",
    "    Hp = np.array([\n",
    "        [1 ,0,  0],\n",
    "        [0 ,1,  0],\n",
    "        [v1,v2, v]\n",
    "    ])\n",
    "    Hfinal = Hs @ Ha @ Hp\n",
    "    transform_point = []\n",
    "    for point in points:\n",
    "        transform_point.append(Hfinal @ np.array(point).T)\n",
    "        transform_point[-1] = [transform_point[-1][0]/transform_point[-1][2], transform_point[-1][1]/transform_point[-1][2], 1]\n",
    "    x_coords, y_coords, _ = zip(*transform_point)\n",
    "    return transform_point, x_coords, y_coords"
   ]
  },
  {
   "cell_type": "code",
   "execution_count": 112,
   "metadata": {},
   "outputs": [
    {
     "data": {
      "image/png": "[encoded data removed]",
      "text/plain": [
       "<Figure size 640x480 with 1 Axes>"
      ]
     },
     "metadata": {},
     "output_type": "display_data"
    }
   ],
   "source": [
    "fig, ax = plt.subplots()\n",
    "\n",
    "\n",
    "points, x_coords, y_coords = rectangle(x=1,y=2,width=10, length=20, cetner=True)\n",
    "ax.scatter(x_coords, y_coords, marker='.', color='b')\n",
    "\n",
    "points2, x_coords2, y_coords2 = projectivity(points=points, s=1, theta=0, tx=0, ty=0, v1=.05, v2=0, v=.5, K=[1, 0, 0, 1])\n",
    "ax.scatter(x_coords2, y_coords2, marker='.', color='r')\n",
    "\n",
    "# Set the axis limits\n",
    "xlim = 50\n",
    "ylim = 50\n",
    "ax.set_xlim(min(x_coords) - xlim, max(x_coords) + xlim)\n",
    "ax.set_ylim(min(y_coords) - ylim, max(y_coords) + ylim)\n",
    "# Set the axis labels\n",
    "ax.set_xlabel('X-axis')\n",
    "ax.set_ylabel('Y-axis')\n",
    "# Display the grid\n",
    "ax.grid(True)\n",
    "ax.axhline(y=0, color='k')\n",
    "ax.axvline(x=0, color='k')\n",
    "ax.set_aspect('equal', adjustable='box')\n",
    "plt.show()\n"
   ]
  }
 ],
 "metadata": {
  "kernelspec": {
   "display_name": ".venv",
   "language": "python",
   "name": "python3"
  },
  "language_info": {
   "codemirror_mode": {
    "name": "ipython",
    "version": 3
   },
   "file_extension": ".py",
   "mimetype": "text/x-python",
   "name": "python",
   "nbconvert_exporter": "python",
   "pygments_lexer": "ipython3",
   "version": "3.8.6rc1"
  }
 },
 "nbformat": 4,
 "nbformat_minor": 2
}
